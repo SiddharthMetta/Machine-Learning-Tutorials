{
 "cells": [
  {
   "cell_type": "markdown",
   "metadata": {},
   "source": [
    "# Decision tree classification\n",
    "A decision tree can be used to learn a piece-wise linear decision boundary between classes. "
   ]
  },
  {
   "cell_type": "markdown",
   "metadata": {},
   "source": [
    "## Prepare the dataset"
   ]
  },
  {
   "cell_type": "code",
   "execution_count": 29,
   "metadata": {},
   "outputs": [],
   "source": [
    "from sklearn import datasets, tree\n",
    "import numpy as np\n",
    "\n",
    "iris = datasets.load_iris()\n",
    "X = iris.data #Choosing only the first two input-features\n",
    "Y = iris.target\n",
    "\n",
    "number_of_samples = len(Y) #using the entire dataset\n",
    "\n",
    "#Splitting into training, validation and test sets\n",
    "random_indices = np.random.permutation(number_of_samples)\n",
    "\n",
    "#Training set\n",
    "num_training_samples = int(number_of_samples*0.7)\n",
    "x_train = X[random_indices[:num_training_samples]]\n",
    "y_train = Y[random_indices[:num_training_samples]]\n",
    "\n",
    "#Validation set\n",
    "num_validation_samples = int(number_of_samples*0.15)\n",
    "x_val = X[random_indices[num_training_samples : num_training_samples+num_validation_samples]]\n",
    "y_val = Y[random_indices[num_training_samples: num_training_samples+num_validation_samples]]\n",
    "\n",
    "#Test set\n",
    "num_test_samples = int(number_of_samples*0.15)\n",
    "x_test = X[random_indices[-num_test_samples:]]\n",
    "y_test = Y[random_indices[-num_test_samples:]]"
   ]
  },
  {
   "cell_type": "markdown",
   "metadata": {},
   "source": [
    "# Fit the model"
   ]
  },
  {
   "cell_type": "code",
   "execution_count": 30,
   "metadata": {},
   "outputs": [
    {
     "data": {
      "text/plain": [
       "DecisionTreeClassifier(class_weight=None, criterion='gini', max_depth=None,\n",
       "            max_features=None, max_leaf_nodes=None,\n",
       "            min_impurity_decrease=0.0, min_impurity_split=None,\n",
       "            min_samples_leaf=1, min_samples_split=2,\n",
       "            min_weight_fraction_leaf=0.0, presort=False, random_state=None,\n",
       "            splitter='best')"
      ]
     },
     "execution_count": 30,
     "metadata": {},
     "output_type": "execute_result"
    }
   ],
   "source": [
    "model = tree.DecisionTreeClassifier()\n",
    "model.fit(x_train, y_train)"
   ]
  },
  {
   "cell_type": "markdown",
   "metadata": {},
   "source": [
    "## Evaluate the model\n"
   ]
  },
  {
   "cell_type": "code",
   "execution_count": 31,
   "metadata": {},
   "outputs": [
    {
     "name": "stdout",
     "output_type": "stream",
     "text": [
      "validation misclassification percentage = 0.0 %\n",
      "test misclassification percentage = 9.090909090909092 %\n"
     ]
    }
   ],
   "source": [
    "\n",
    "validation_set_predictions = [model.predict(x_val[i].reshape((1,len(x_val[i]))))[0] for i in range(x_val.shape[0])]\n",
    "validation_misclassification_percentage = 0\n",
    "for i in range(len(validation_set_predictions)):\n",
    "    if validation_set_predictions[i]!=y_val[i]:\n",
    "        validation_misclassification_percentage+=1\n",
    "validation_misclassification_percentage *= 100/len(y_val)\n",
    "print ('validation misclassification percentage =', validation_misclassification_percentage, '%')\n",
    "\n",
    "test_set_predictions = [model.predict(x_test[i].reshape((1,len(x_test[i]))))[0] for i in range(x_test.shape[0])]\n",
    "\n",
    "test_misclassification_percentage = 0\n",
    "for i in range(len(test_set_predictions)):\n",
    "    if test_set_predictions[i]!=y_test[i]:\n",
    "        test_misclassification_percentage+=1\n",
    "test_misclassification_percentage *= 100/len(y_test)\n",
    "print ('test misclassification percentage =', test_misclassification_percentage, '%')"
   ]
  }
 ],
 "metadata": {
  "kernelspec": {
   "display_name": "Python 3",
   "language": "python",
   "name": "python3"
  },
  "language_info": {
   "codemirror_mode": {
    "name": "ipython",
    "version": 3
   },
   "file_extension": ".py",
   "mimetype": "text/x-python",
   "name": "python",
   "nbconvert_exporter": "python",
   "pygments_lexer": "ipython3",
   "version": "3.6.4"
  }
 },
 "nbformat": 4,
 "nbformat_minor": 2
}
