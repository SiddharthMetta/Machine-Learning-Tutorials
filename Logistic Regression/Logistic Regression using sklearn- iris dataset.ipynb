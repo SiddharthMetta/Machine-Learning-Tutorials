{
 "cells": [
  {
   "cell_type": "markdown",
   "metadata": {},
   "source": [
    "# Logistic Regression\n",
    "\n",
    "Logistic Regression is used for classification using a \"linear\" decision boundary. \n",
    "\n",
    "First, it looks for linear decision boundaries between the samples of different classes. Then, the logistic function  $\\sigma(\\cdot)$ is used to get the probability of belongingness to each class defined with respect to the decision boundaries. \n",
    "\n",
    "The logistic function is:\n",
    "$$\\sigma(z) =  \\frac{1}{1+ e^{-z}} $$\n",
    "\n",
    "The output probability of belongingness to a class that can be suitably thresholded to get hard classification\n"
   ]
  },
  {
   "cell_type": "markdown",
   "metadata": {},
   "source": [
    "## Prepare data\n",
    "The data has 4 input-features and 3 output-classes. For simplicity we will use only two features: sepal-length and sepal-width (both in cm) and two output classes: Iris Setosa and Iris Versicolour."
   ]
  },
  {
   "cell_type": "code",
   "execution_count": 64,
   "metadata": {},
   "outputs": [],
   "source": [
    "import numpy as np\n",
    "from sklearn import datasets\n",
    "import matplotlib.pyplot as plt\n",
    "\n",
    "iris= datasets.load_iris()\n",
    "x = iris.data[:, :2] # choosing only first two features\n",
    "y = iris.target\n",
    "\n",
    "# taking 100 samples. First 50 -> class 0 and second 50 -> class 1\n",
    "x= x[:100]\n",
    "y= y[:100] \n",
    "no_of_samples= 100\n",
    "\n"
   ]
  },
  {
   "cell_type": "markdown",
   "metadata": {},
   "source": [
    "## Splitting the data"
   ]
  },
  {
   "cell_type": "code",
   "execution_count": 65,
   "metadata": {},
   "outputs": [
    {
     "name": "stdout",
     "output_type": "stream",
     "text": [
      "70\n",
      "15\n",
      "15\n"
     ]
    }
   ],
   "source": [
    "# train - 70, test-15, validation -15\n",
    "random_indices = np.random.permutation(no_of_samples)\n",
    "\n",
    "# training set\n",
    "x_train = x[random_indices[:70]]\n",
    "y_train = y[random_indices[:70]]\n",
    "\n",
    "# validation set\n",
    "x_val = x[random_indices[70:85]]\n",
    "y_val = y[random_indices[70:85]]\n",
    "\n",
    "# test set\n",
    "x_test = x[random_indices[85:]]\n",
    "y_test = y[random_indices[85:]]\n",
    "\n",
    "\n",
    "print (len(x_train))\n",
    "print (len(x_test))\n",
    "print (len(x_val))"
   ]
  },
  {
   "cell_type": "markdown",
   "metadata": {},
   "source": [
    "## Visualizing the data"
   ]
  },
  {
   "cell_type": "code",
   "execution_count": 66,
   "metadata": {},
   "outputs": [
    {
     "data": {
      "image/png": "[encoded data removed]",
      "text/plain": [
       "<matplotlib.figure.Figure at 0x2404eed978>"
      ]
     },
     "metadata": {},
     "output_type": "display_data"
    }
   ],
   "source": [
    "# y will have 0 for class 0 and 1 for class 1. so we will be using np.zeros and np.ones to represent the target y variables\n",
    "\n",
    "x_class_0 = np.asmatrix( [x_train[i]  for i in range(len(x_train))   if y_train[i]==0])\n",
    "y_class_0 = np.zeros((x_class_0.shape[0]),  dtype= np.int)\n",
    "\n",
    "x_class_1 = np.asmatrix( [x_train[i]  for i in range(len(x_train))  if y_train[i]==1 ])\n",
    "y_class_1 = np.ones( (x_class_1.shape[0]),  dtype= np.int)\n",
    "\n",
    "plt.scatter([x_class_0[:,0]], [x_class_0[:,1]],color='red')\n",
    "plt.scatter( [x_class_1[:,0]], [x_class_1[:,1]],color='blue')\n",
    "plt.xlabel('sepal length')\n",
    "plt.ylabel('sepal width')\n",
    "plt.legend(['class 0','class 1'])\n",
    "plt.title(' Visualization of training data')\n",
    "plt.show()"
   ]
  },
  {
   "cell_type": "markdown",
   "metadata": {},
   "source": [
    "## Fitting logistic regression model\n",
    "we fit a linear decision boundary through the feature space that separates the two classes well.\n"
   ]
  },
  {
   "cell_type": "code",
   "execution_count": 67,
   "metadata": {},
   "outputs": [
    {
     "data": {
      "text/plain": [
       "LogisticRegression(C=100000.0, class_weight=None, dual=False,\n",
       "          fit_intercept=True, intercept_scaling=1, max_iter=100,\n",
       "          multi_class='ovr', n_jobs=1, penalty='l2', random_state=None,\n",
       "          solver='liblinear', tol=0.0001, verbose=0, warm_start=False)"
      ]
     },
     "execution_count": 67,
     "metadata": {},
     "output_type": "execute_result"
    }
   ],
   "source": [
    "model = linear_model.LogisticRegression(C=1e5)#C is the inverse of the regularization factor\n",
    "full_X = np.concatenate((x_class_0,x_class_1),axis=0)\n",
    "full_Y = np.concatenate((y_class_0,y_class_1),axis=0)\n",
    "model.fit(full_X,full_Y)"
   ]
  },
  {
   "cell_type": "markdown",
   "metadata": {},
   "source": [
    "\n",
    "## Displaying the decision boundary\n",
    "Plot the decision boundary. For that, we will assign a color to each\n",
    "point in the mesh [x_min, m_max]x[y_min, y_max]."
   ]
  },
  {
   "cell_type": "code",
   "execution_count": 68,
   "metadata": {},
   "outputs": [
    {
     "data": {
      "image/png": "[encoded data removed]",
      "text/plain": [
       "<matplotlib.figure.Figure at 0x24060f5908>"
      ]
     },
     "metadata": {},
     "output_type": "display_data"
    }
   ],
   "source": [
    "h = .02  # step size in the mesh\n",
    "x_min, x_max = full_X[:, 0].min() - .5, full_X[:, 0].max() + .5\n",
    "y_min, y_max = full_X[:, 1].min() - .5, full_X[:, 1].max() + .5\n",
    "xx, yy = np.meshgrid(np.arange(x_min, x_max, h), np.arange(y_min, y_max, h))\n",
    "Z = model.predict(np.c_[xx.ravel(), yy.ravel()]) #predict for the entire mesh to find the regions for each class in the feature space\n",
    "\n",
    "# Put the result into a color plot\n",
    "Z = Z.reshape(xx.shape)\n",
    "plt.figure()\n",
    "plt.pcolormesh(xx, yy, Z, cmap=plt.cm.Paired)\n",
    "\n",
    "# Plot also the training points\n",
    "plt.scatter([x_class_0[:, 0]], [x_class_0[:, 1]], c='red', edgecolors='k', cmap=plt.cm.Paired)\n",
    "plt.scatter([x_class_1[:, 0]], [x_class_1[:, 1]], c='blue', edgecolors='k', cmap=plt.cm.Paired)\n",
    "plt.xlabel('Sepal length')\n",
    "plt.ylabel('Sepal width')\n",
    "plt.title('Fig 4: Visualization of decision boundary')\n",
    "plt.xlim(xx.min(), xx.max())\n",
    "plt.ylim(yy.min(), yy.max())\n",
    "\n",
    "\n",
    "plt.show()"
   ]
  },
  {
   "cell_type": "markdown",
   "metadata": {},
   "source": [
    "## Evaluate the model"
   ]
  },
  {
   "cell_type": "code",
   "execution_count": 69,
   "metadata": {},
   "outputs": [
    {
     "name": "stdout",
     "output_type": "stream",
     "text": [
      "validation misclassification percentage = 0 %\n",
      "test misclassification percentage = 0.0 %\n"
     ]
    }
   ],
   "source": [
    "validation_set_predictions = [model.predict(x_val[i].reshape((1,2)))[0] for i in range(x_val.shape[0]) ]\n",
    "validation_misclassification_percentage= 0\n",
    "\n",
    "for i in range(len(validation_set_predictions)):\n",
    "    if validation_set_predictions[i]!= y_val[i]:\n",
    "        validation_misclassification_percentage += 1\n",
    "\n",
    "print ('validation misclassification percentage =', validation_misclassification_percentage, '%')\n",
    "\n",
    "test_set_predictions = [model.predict(x_test[i].reshape((1,2)))[0] for i in range(x_test.shape[0])]\n",
    "\n",
    "test_misclassification_percentage = 0\n",
    "for i in range(len(test_set_predictions)):\n",
    "    if test_set_predictions[i]!=y_test[i]:\n",
    "        test_misclassification_percentage+=1\n",
    "test_misclassification_percentage *= 100/len(y_test)\n",
    "print ('test misclassification percentage =', test_misclassification_percentage, '%')"
   ]
  }
 ],
 "metadata": {
  "kernelspec": {
   "display_name": "Python 3",
   "language": "python",
   "name": "python3"
  },
  "language_info": {
   "codemirror_mode": {
    "name": "ipython",
    "version": 3
   },
   "file_extension": ".py",
   "mimetype": "text/x-python",
   "name": "python",
   "nbconvert_exporter": "python",
   "pygments_lexer": "ipython3",
   "version": "3.6.4"
  }
 },
 "nbformat": 4,
 "nbformat_minor": 2
}
