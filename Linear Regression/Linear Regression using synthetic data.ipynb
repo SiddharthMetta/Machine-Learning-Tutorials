{
 "cells": [
  {
   "cell_type": "markdown",
   "metadata": {},
   "source": [
    "# Linear Regression \n",
    "\n",
    "## Prepare data:\n",
    "First we will prepare some data for demonstrating linear regression. To keep things simple we will assume we have a single input feature. \n",
    "Let us use the following function to generate our data by using Synthetic data\n",
    "\n",
    "\n",
    "Synthetic data: It is a computer generated data that mimics the real data. So here the data is computer generated and not human generated\n",
    "$$y = \\frac{x}{2}+sin(x)+\\epsilon$$ Where $\\epsilon \\sim \\mathcal{N}(0,1)$ is Gaussian noise.\n",
    "    "
   ]
  },
  {
   "cell_type": "code",
   "execution_count": 2,
   "metadata": {
    "collapsed": true
   },
   "outputs": [],
   "source": [
    "import numpy as np\n",
    "from sklearn import linear_model, datasets, tree\n",
    "import matplotlib.pyplot as plt\n",
    "%matplotlib inline"
   ]
  },
  {
   "cell_type": "code",
   "execution_count": 3,
   "metadata": {},
   "outputs": [
    {
     "data": {
      "image/png": "[encoded data removed]",
      "text/plain": [
       "<matplotlib.figure.Figure at 0xac17cedf60>"
      ]
     },
     "metadata": {},
     "output_type": "display_data"
    }
   ],
   "source": [
    "number_of_samples= 100\n",
    "\n",
    "# we are plotting the graph from -pi to pi because we have sin(x). so in numpy we use -np.pi to np.pi for plotting the data on x-axis\n",
    "\n",
    "x= np.linspace(-np.pi, np.pi, number_of_samples)\n",
    "y= (0.5*x) + (np.sin(x)) + np.random.random(x.shape)\n",
    "\n",
    "# plotting the values\n",
    "plt.scatter (x,y, color= \"blue\")\n",
    "plt.xlabel(\"x-input\")\n",
    "plt.ylabel(\"y-target\")\n",
    "plt.title(\"data for linear regression\")\n",
    "plt.show()"
   ]
  },
  {
   "cell_type": "markdown",
   "metadata": {},
   "source": [
    "## Splitting data into train, test, validation sets\n",
    "The training set is supposed to be used to train the model.\n",
    "\n",
    "The model is evaluated on the validation set after every episode of training. \n",
    "\n",
    "The performance on the validation set gives a measure of how good the model generalizes.\n",
    "\n",
    "Various hyperparameters of the model are tuned to improve performance on the validation set. Finally when the model is completely optimized and ready for deployment, it is evaluated on the test data and the performance is reported in the final description of the model."
   ]
  },
  {
   "cell_type": "code",
   "execution_count": 9,
   "metadata": {
    "collapsed": true
   },
   "outputs": [],
   "source": [
    "random_indices= np.random.permutation(number_of_samples)\n",
    "\n",
    "# Train- 70%\n",
    "# test- 15% \n",
    "# val-15%\n",
    "\n",
    "# Training set\n",
    "x_train= x[random_indices[:70]]\n",
    "y_train= y[random_indices[:70]]\n",
    "\n",
    "# Test set\n",
    "x_test= x[random_indices[70:85]]\n",
    "y_test= y[random_indices[70:85]]\n",
    "\n",
    "# Validation set\n",
    "x_val= x[random_indices[85:]]\n",
    "y_val= y[random_indices[85:]]"
   ]
  },
  {
   "cell_type": "markdown",
   "metadata": {},
   "source": [
    "## Fitting the line to data\n",
    "Linear regression learns to fit the hyperplane to our data in the features space.\n",
    "\n",
    "For one dimensional data -> straight line"
   ]
  },
  {
   "cell_type": "code",
   "execution_count": 6,
   "metadata": {},
   "outputs": [
    {
     "data": {
      "image/png": "[encoded data removed]",
      "text/plain": [
       "<matplotlib.figure.Figure at 0xac17db10f0>"
      ]
     },
     "metadata": {},
     "output_type": "display_data"
    }
   ],
   "source": [
    "model = linear_model.LinearRegression()\n",
    "\n",
    "# sklearn always takes the inputs as matrices. Hence we shape the arrays in one dimenson to a column matrix\n",
    "x_train_for_fitting = np.matrix (x_train.reshape (len(x_train), 1))\n",
    "y_train_for_fitting = np.matrix (y_train.reshape (len(y_train), 1))\n",
    "\n",
    "\n",
    "# Fitting the line to the training data\n",
    "model.fit (x_train_for_fitting, y_train_for_fitting)\n",
    "\n",
    "\n",
    "# plotting the line\n",
    "plt.scatter(x_train, y_train, color= \"blue\" )\n",
    "plt.plot(x.reshape((len(x),1)),model.predict(x.reshape((len(x),1))),color='red')\n",
    "plt.xlabel('x-input feature')\n",
    "plt.ylabel('y-target values')\n",
    "plt.title('Fig 2: Line fit to training data')\n",
    "plt.show()"
   ]
  },
  {
   "cell_type": "markdown",
   "metadata": {},
   "source": [
    "## Evaluate the model\n",
    "Now that we have our model ready, we must evaluate our model. In a linear regression scenario, its common to evaluate the model in terms of the mean squared error on the validation and test sets."
   ]
  },
  {
   "cell_type": "code",
   "execution_count": 10,
   "metadata": {},
   "outputs": [
    {
     "name": "stdout",
     "output_type": "stream",
     "text": [
      "Validation MSE:  3.54570200431\n",
      "Test MSE:  4.85672788358\n"
     ]
    }
   ],
   "source": [
    "mean_val_error = np.mean((y_val- model.predict (x_val.reshape(len(x_val), 1))) **2 )\n",
    "mean_test_error =np. mean((y_test - model.predict(x_test.reshape(len(x_test),1)))**2)\n",
    "\n",
    "print (\"Validation MSE: \", mean_val_error)\n",
    "print (\"Test MSE: \", mean_test_error)"
   ]
  }
 ],
 "metadata": {
  "kernelspec": {
   "display_name": "Python 3",
   "language": "python",
   "name": "python3"
  },
  "language_info": {
   "codemirror_mode": {
    "name": "ipython",
    "version": 3
   },
   "file_extension": ".py",
   "mimetype": "text/x-python",
   "name": "python",
   "nbconvert_exporter": "python",
   "pygments_lexer": "ipython3",
   "version": "3.6.4"
  }
 },
 "nbformat": 4,
 "nbformat_minor": 2
}
